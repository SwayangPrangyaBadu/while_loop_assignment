{
 "cells": [
  {
   "cell_type": "code",
   "execution_count": 48,
   "metadata": {},
   "outputs": [
    {
     "name": "stdout",
     "output_type": "stream",
     "text": [
      "*****\n",
      "****\n",
      "***\n",
      "**\n",
      "*\n"
     ]
    }
   ],
   "source": [
    "#1\n",
    "x=5\n",
    "while x>0:\n",
    "    print(x*\"*\")\n",
    "    x-=1"
   ]
  },
  {
   "cell_type": "code",
   "execution_count": 49,
   "metadata": {},
   "outputs": [
    {
     "name": "stdout",
     "output_type": "stream",
     "text": [
      "          *\n",
      "        * *\n",
      "      * * *\n",
      "    * * * *\n",
      "  * * * * *\n"
     ]
    }
   ],
   "source": [
    "#2\n",
    "x=5\n",
    "while x>0:\n",
    "    print(\" \".join((x)*\" \"+(6-x)*\"*\"))\n",
    "    x-=1"
   ]
  },
  {
   "cell_type": "code",
   "execution_count": 50,
   "metadata": {},
   "outputs": [
    {
     "name": "stdout",
     "output_type": "stream",
     "text": [
      " *****\n",
      "  ****\n",
      "   ***\n",
      "    **\n",
      "     *\n"
     ]
    }
   ],
   "source": [
    "#3\n",
    "x=5\n",
    "while x>0:\n",
    "    print((6-x)*\" \"+(x)*\"*\")\n",
    "    x-=1"
   ]
  },
  {
   "cell_type": "code",
   "execution_count": 51,
   "metadata": {},
   "outputs": [
    {
     "name": "stdout",
     "output_type": "stream",
     "text": [
      "*\n",
      "**\n",
      "***\n",
      "****\n",
      "*****\n"
     ]
    }
   ],
   "source": [
    "#4\n",
    "x=1\n",
    "while x<6:\n",
    "    print(x*\"*\")\n",
    "    x+=1"
   ]
  },
  {
   "cell_type": "code",
   "execution_count": 52,
   "metadata": {},
   "outputs": [
    {
     "name": "stdout",
     "output_type": "stream",
     "text": [
      "*\n",
      "**\n",
      "***\n",
      "****\n",
      "*****\n",
      "****\n",
      "***\n",
      "**\n",
      "*\n"
     ]
    }
   ],
   "source": [
    "#5\n",
    "x=6\n",
    "b=x-2\n",
    "while x>0:\n",
    "    if x==1:\n",
    "        while b>0:\n",
    "            print((b)*\"*\")\n",
    "            b-=1\n",
    "    else:\n",
    "       print((7-x)*\"*\")\n",
    "    x-=1"
   ]
  },
  {
   "cell_type": "code",
   "execution_count": 53,
   "metadata": {},
   "outputs": [
    {
     "name": "stdout",
     "output_type": "stream",
     "text": [
      "*****\n",
      "****\n",
      "***\n",
      "**\n",
      "*\n",
      "*\n",
      "**\n",
      "***\n",
      "****\n",
      "*****\n"
     ]
    }
   ],
   "source": [
    "#6\n",
    "x=6\n",
    "b=x-1\n",
    "while x>0:\n",
    "    if x==6:\n",
    "        while b:\n",
    "            print((b)*\"*\")\n",
    "            b-=1\n",
    "    else:\n",
    "       print((6-x)*\"*\")\n",
    "    x-=1"
   ]
  },
  {
   "cell_type": "code",
   "execution_count": 54,
   "metadata": {},
   "outputs": [
    {
     "name": "stdout",
     "output_type": "stream",
     "text": [
      "      *\n",
      "     **\n",
      "    ***\n",
      "   ****\n",
      "  *****\n",
      " ******\n",
      "  *****\n",
      "   ****\n",
      "    ***\n",
      "     **\n",
      "      *\n"
     ]
    }
   ],
   "source": [
    "#7\n",
    "x=6\n",
    "b=x\n",
    "while x>0:\n",
    "    if x==6:\n",
    "        while b:\n",
    "            print((b)*\" \"+(7-b)*\"*\")\n",
    "            b-=1\n",
    "    else:\n",
    "        print((7-x)*\" \"+(x)*\"*\")\n",
    "    x-=1"
   ]
  },
  {
   "cell_type": "code",
   "execution_count": 55,
   "metadata": {},
   "outputs": [
    {
     "name": "stdout",
     "output_type": "stream",
     "text": [
      " *****\n",
      "  ****\n",
      "   ***\n",
      "    **\n",
      "     *\n",
      "    **\n",
      "   ***\n",
      "  ****\n",
      " *****\n"
     ]
    }
   ],
   "source": [
    "#8\n",
    "x=5\n",
    "b=x\n",
    "while x>0:\n",
    "    if x==5:\n",
    "        while b:\n",
    "            print((6-b)*\" \"+(b)*\"*\")\n",
    "            b-=1\n",
    "    else:\n",
    "        print((x)*\" \"+(6-x)*\"*\")\n",
    "    x-=1"
   ]
  },
  {
   "cell_type": "code",
   "execution_count": 56,
   "metadata": {},
   "outputs": [
    {
     "name": "stdout",
     "output_type": "stream",
     "text": [
      "         *          \n",
      "        ***         \n",
      "       *****        \n",
      "      *******       \n",
      "     *********      \n"
     ]
    }
   ],
   "source": [
    "#9\n",
    "x=10\n",
    "a=\"\"\n",
    "while x:\n",
    "    if (11-x)%2!=0:\n",
    "        a=(11-x)*\"*\"\n",
    "        print(a.center(20,\" \"))\n",
    "    x=x-1"
   ]
  },
  {
   "cell_type": "code",
   "execution_count": 57,
   "metadata": {},
   "outputs": [
    {
     "name": "stdout",
     "output_type": "stream",
     "text": [
      "     *********      \n",
      "      *******       \n",
      "       *****        \n",
      "        ***         \n",
      "         *          \n",
      "        ***         \n",
      "       *****        \n",
      "      *******       \n",
      "     *********      \n"
     ]
    }
   ],
   "source": [
    "#10\n",
    "x=10\n",
    "b=x\n",
    "while x:\n",
    "    if x%2!=0:\n",
    "        if x==1:\n",
    "            while b:\n",
    "                if (11-b)%2!=0:\n",
    "                    a=(11-b)*\"*\"\n",
    "                    print(a.center(20,\" \"))\n",
    "                b-=1\n",
    "        else:\n",
    "            a=x*\"*\"\n",
    "            print(a.center(20,\" \"))\n",
    "    x-=1"
   ]
  },
  {
   "cell_type": "code",
   "execution_count": 58,
   "metadata": {},
   "outputs": [
    {
     "name": "stdout",
     "output_type": "stream",
     "text": [
      "*        *\n",
      "**      **\n",
      "***    ***\n",
      "****  ****\n",
      "**********\n"
     ]
    }
   ],
   "source": [
    "#11\n",
    "x=5\n",
    "while x:\n",
    "    print((6-x)*\"*\"+\" \"*(6-((6-x)+1))+\" \"*(6-((6-x)+1))+(6-x)*\"*\")\n",
    "    x-=1"
   ]
  },
  {
   "cell_type": "code",
   "execution_count": 59,
   "metadata": {},
   "outputs": [
    {
     "name": "stdout",
     "output_type": "stream",
     "text": [
      "**********\n",
      "****  ****\n",
      "***    ***\n",
      "**      **\n",
      "*        *\n"
     ]
    }
   ],
   "source": [
    "#12\n",
    "x=5\n",
    "while x:\n",
    "    print((x)*\"*\"+\" \"*(6-x-1)+\" \"*(6-x-1)+(x)*\"*\")\n",
    "    x-=1"
   ]
  },
  {
   "cell_type": "code",
   "execution_count": 60,
   "metadata": {},
   "outputs": [
    {
     "name": "stdout",
     "output_type": "stream",
     "text": [
      "*          *\n",
      "**        **\n",
      "***      ***\n",
      "****    ****\n",
      "*****  *****\n",
      "************\n",
      "*****  *****\n",
      "****    ****\n",
      "***      ***\n",
      "**        **\n",
      "*          *\n"
     ]
    }
   ],
   "source": [
    "#13\n",
    "x=6\n",
    "b=x\n",
    "while x:\n",
    "    if x==1:\n",
    "        while b:\n",
    "            print((b)*\"*\"+\" \"*(7-b-1)+\" \"*(7-b-1)+(b)*\"*\")\n",
    "            b-=1\n",
    "    else:\n",
    "        print((7-x)*\"*\"+\" \"*(7-((7-x)+1))+\" \"*(7-((7-x)+1))+(7-x)*\"*\")\n",
    "    x-=1"
   ]
  },
  {
   "cell_type": "code",
   "execution_count": 61,
   "metadata": {},
   "outputs": [
    {
     "name": "stdout",
     "output_type": "stream",
     "text": [
      "************\n",
      "*****  *****\n",
      "****    ****\n",
      "***      ***\n",
      "**        **\n",
      "*          *\n",
      "**        **\n",
      "***      ***\n",
      "****    ****\n",
      "*****  *****\n",
      "************\n"
     ]
    }
   ],
   "source": [
    "#14\n",
    "x=6\n",
    "b=x\n",
    "while x:\n",
    "    if (7-x)==1:\n",
    "        while b:\n",
    "            print((b)*\"*\"+\" \"*(7-b-1)+\" \"*(7-b-1)+(b)*\"*\")\n",
    "            b-=1\n",
    "    else:\n",
    "        print((7-x)*\"*\"+\" \"*(7-((7-x)+1))+\" \"*(7-((7-x)+1))+(7-x)*\"*\")\n",
    "    x-=1"
   ]
  },
  {
   "cell_type": "code",
   "execution_count": 62,
   "metadata": {},
   "outputs": [
    {
     "name": "stdout",
     "output_type": "stream",
     "text": [
      "*\n",
      "**\n",
      "* *\n",
      "*  *\n",
      "*   *\n",
      "******\n"
     ]
    }
   ],
   "source": [
    "#15\n",
    "x=6\n",
    "while x:\n",
    "    if x==6:\n",
    "        print((7-x)*\"*\")\n",
    "    elif x==1:\n",
    "        print((x+5)*\"*\")\n",
    "    else:\n",
    "        print(\"*\"+(7-x-2)*\" \"+\"*\")\n",
    "    x-=1"
   ]
  },
  {
   "cell_type": "code",
   "execution_count": 63,
   "metadata": {},
   "outputs": [
    {
     "name": "stdout",
     "output_type": "stream",
     "text": [
      "******\n",
      "*   *\n",
      "*  *\n",
      "* *\n",
      "**\n",
      "*\n"
     ]
    }
   ],
   "source": [
    "#16\n",
    "x=6\n",
    "while x:\n",
    "    if x==6 or x==1:\n",
    "        print(x*\"*\")\n",
    "    else:\n",
    "        print(\"*\"+(x-2)*\" \"+\"*\")\n",
    "    x-=1"
   ]
  },
  {
   "cell_type": "code",
   "execution_count": 64,
   "metadata": {},
   "outputs": [
    {
     "name": "stdout",
     "output_type": "stream",
     "text": [
      "      *\n",
      "     **\n",
      "    * *\n",
      "   *  *\n",
      "  *   *\n",
      " ******\n"
     ]
    }
   ],
   "source": [
    "#17\n",
    "x=6\n",
    "while x:\n",
    "    if x==6:\n",
    "        print(x*\" \"+(7-x)*\"*\")\n",
    "    elif x==1:\n",
    "        print(x*\" \"+(x+5)*\"*\")\n",
    "    else:\n",
    "        print(x*\" \"+\"*\"+(7-x-2)*\" \"+\"*\")\n",
    "    x-=1"
   ]
  },
  {
   "cell_type": "code",
   "execution_count": 65,
   "metadata": {},
   "outputs": [
    {
     "name": "stdout",
     "output_type": "stream",
     "text": [
      "******\n",
      "*   *\n",
      "*  *\n",
      "* *\n",
      "**\n",
      "*\n",
      "**\n",
      "* *\n",
      "*  *\n",
      "*   *\n",
      "******\n"
     ]
    }
   ],
   "source": [
    "#18\n",
    "x=6\n",
    "b=x\n",
    "while x:\n",
    "    if x==6:\n",
    "        print(x*\"*\")\n",
    "    elif x==1:\n",
    "        while b:\n",
    "            if b==6:\n",
    "                print((7-b)*\"*\")\n",
    "            elif b==1:\n",
    "                print((b+5)*\"*\")\n",
    "            else:\n",
    "                print(\"*\"+(7-b-2)*\" \"+\"*\")\n",
    "            b-=1\n",
    "    else:\n",
    "        print(\"*\"+(x-2)*\" \"+\"*\")\n",
    "    x-=1"
   ]
  },
  {
   "cell_type": "code",
   "execution_count": 66,
   "metadata": {},
   "outputs": [
    {
     "name": "stdout",
     "output_type": "stream",
     "text": [
      "      *\n",
      "     **\n",
      "    * *\n",
      "   *  *\n",
      "  *   *\n",
      " *    *\n",
      "  *   *\n",
      "   *  *\n",
      "    * *\n",
      "     **\n",
      "      *\n"
     ]
    }
   ],
   "source": [
    "#19\n",
    "x=6\n",
    "b=x\n",
    "while x:\n",
    "    if x==6:\n",
    "        print(x*\" \"+(7-x)*\"*\")\n",
    "    elif x==1:\n",
    "#         x=5\n",
    "        while b:\n",
    "            if b==1:\n",
    "                print((7-b)*\" \"+b*\"*\")\n",
    "            else:\n",
    "                print((7-b)*\" \"+\"*\"+(b-2)*\" \"+\"*\")\n",
    "            b-=1\n",
    "    else:\n",
    "        print(x*\" \"+\"*\"+(7-x-2)*\" \"+\"*\")\n",
    "    x-=1"
   ]
  },
  {
   "cell_type": "code",
   "execution_count": 67,
   "metadata": {},
   "outputs": [
    {
     "name": "stdout",
     "output_type": "stream",
     "text": [
      " ******\n",
      "  *   *\n",
      "   *  *\n",
      "    * *\n",
      "     **\n",
      "      *\n",
      "     **\n",
      "    * *\n",
      "   *  *\n",
      "  *   *\n",
      " ******\n"
     ]
    }
   ],
   "source": [
    "#20\n",
    "x=6\n",
    "b=x\n",
    "while x:\n",
    "    if x==6:\n",
    "        print((7-x)*\" \"+x*\"*\")\n",
    "    elif x==1:\n",
    "        while b:\n",
    "            if b==6:\n",
    "                print((b)*\" \"+(7-b)*\"*\")\n",
    "            elif b==1:\n",
    "                print((b)*\" \"+(b+5)*\"*\")\n",
    "            else:\n",
    "                print((b)*\" \"+\"*\"+(7-b-2)*\" \"+\"*\")\n",
    "            b-=1\n",
    "    else:\n",
    "        print((7-x)*\" \"+\"*\"+(x-2)*\" \"+\"*\")\n",
    "    x-=1"
   ]
  },
  {
   "cell_type": "code",
   "execution_count": 68,
   "metadata": {},
   "outputs": [
    {
     "name": "stdout",
     "output_type": "stream",
     "text": [
      "         *          \n",
      "        * *         \n",
      "       *   *        \n",
      "      *     *       \n",
      "     *********      \n"
     ]
    }
   ],
   "source": [
    "#21\n",
    "x=10\n",
    "a=\"\"\n",
    "while x:\n",
    "    if (11-x)%2!=0:\n",
    "        if (11-x)==1 or x==2:\n",
    "            a=(11-x)*\"*\"\n",
    "            print(a.center(20,\" \"))\n",
    "        else:\n",
    "            a=\"*\"+((11-x)-2)*\" \"+\"*\"\n",
    "            print(a.center(20,\" \"))\n",
    "        \n",
    "    x=x-1"
   ]
  },
  {
   "cell_type": "code",
   "execution_count": 69,
   "metadata": {},
   "outputs": [
    {
     "name": "stdout",
     "output_type": "stream",
     "text": [
      "*********\n",
      " *     * \n",
      "  *   *  \n",
      "   * *   \n",
      "    *    \n"
     ]
    }
   ],
   "source": [
    "#22\n",
    "k=5\n",
    "max=9\n",
    "for i in range(5,0,-1):\n",
    "    if i==1:\n",
    "        print((i*\"*\").center(max))\n",
    "    elif i==5:\n",
    "        print((max*\"*\").center(max))\n",
    "    else:\n",
    "        print((\"*\"+k*\" \"+\"*\").center(max))\n",
    "        k=k-2"
   ]
  },
  {
   "cell_type": "code",
   "execution_count": 70,
   "metadata": {},
   "outputs": [
    {
     "name": "stdout",
     "output_type": "stream",
     "text": [
      "         *          \n",
      "        * *         \n",
      "       *   *        \n",
      "      *     *       \n",
      "     *       *      \n",
      "      *     *       \n",
      "       *   *        \n",
      "        * *         \n",
      "         *          \n"
     ]
    }
   ],
   "source": [
    "#23\n",
    "x=10\n",
    "b=x\n",
    "while x:\n",
    "    if (11-x)%2!=0:\n",
    "        if (11-x)==1:\n",
    "            a=(11-x)*\"*\"\n",
    "            print(a.center(20,\" \"))\n",
    "        elif x==2:\n",
    "                while b:\n",
    "                    if (b)%2!=0:\n",
    "                        if b==1:\n",
    "                            a=(b)*\"*\"\n",
    "                            print(a.center(20,\" \"))\n",
    "                        else:\n",
    "                            a=\"*\"+((b)-2)*\" \"+\"*\"\n",
    "                            print(a.center(20,\" \"))\n",
    "\n",
    "                    b=b-1\n",
    "        else:\n",
    "            a=\"*\"+((11-x)-2)*\" \"+\"*\"\n",
    "            print(a.center(20,\" \"))\n",
    "        \n",
    "    x=x-1"
   ]
  },
  {
   "cell_type": "code",
   "execution_count": 71,
   "metadata": {},
   "outputs": [
    {
     "name": "stdout",
     "output_type": "stream",
     "text": [
      "     *********      \n",
      "      *     *       \n",
      "       *   *        \n",
      "        * *         \n",
      "         *          \n",
      "        * *         \n",
      "       *   *        \n",
      "      *     *       \n",
      "     *********      \n"
     ]
    }
   ],
   "source": [
    "#24\n",
    "x=10\n",
    "b=x\n",
    "while x:\n",
    "    if (x)%2!=0:\n",
    "        if x==9:\n",
    "            a=(x)*\"*\"\n",
    "            print(a.center(20,\" \"))\n",
    "        elif x==1:\n",
    "            while b:\n",
    "                if (11-b)%2!=0:\n",
    "                    if (11-b)==1 or b==2:\n",
    "                        a=(11-b)*\"*\"\n",
    "                        print(a.center(20,\" \"))\n",
    "                    else:\n",
    "                        a=\"*\"+((11-b)-2)*\" \"+\"*\"\n",
    "                        print(a.center(20,\" \"))\n",
    "\n",
    "                b=b-1\n",
    "        else:\n",
    "            a=\"*\"+((x)-2)*\" \"+\"*\"\n",
    "            print(a.center(20,\" \"))\n",
    "        \n",
    "    x=x-1"
   ]
  },
  {
   "cell_type": "code",
   "execution_count": 72,
   "metadata": {},
   "outputs": [
    {
     "name": "stdout",
     "output_type": "stream",
     "text": [
      "* * * * * \n",
      "* * * * * \n",
      "* * * * * \n",
      "* * * * * \n",
      "* * * * * \n",
      "* * * * * \n"
     ]
    }
   ],
   "source": [
    "#25\n",
    "x=6\n",
    "while x:\n",
    "    print(5*\"* \")\n",
    "    x-=1"
   ]
  },
  {
   "cell_type": "code",
   "execution_count": 73,
   "metadata": {},
   "outputs": [
    {
     "name": "stdout",
     "output_type": "stream",
     "text": [
      "1\n",
      "1 2\n",
      "1 2 3\n",
      "1 2 3 4\n",
      "1 2 3 4 5\n",
      "1 2 3 4 5 6\n"
     ]
    }
   ],
   "source": [
    "#26\n",
    "x=6\n",
    "b=1\n",
    "a=0\n",
    "while x:\n",
    "    a=a*10+(b)\n",
    "    print(\" \".join(str(a)))\n",
    "    x=x-1\n",
    "    b+=1"
   ]
  },
  {
   "cell_type": "code",
   "execution_count": 74,
   "metadata": {},
   "outputs": [
    {
     "name": "stdout",
     "output_type": "stream",
     "text": [
      "A\n",
      "A B\n",
      "A B C\n",
      "A B C D\n",
      "A B C D E\n",
      "A B C D E F\n"
     ]
    }
   ],
   "source": [
    "#27\n",
    "x=6\n",
    "a=\"\"\n",
    "while x:\n",
    "    a=a+chr(71-x)\n",
    "    print(\" \".join(a))\n",
    "    x-=1"
   ]
  },
  {
   "cell_type": "code",
   "execution_count": 75,
   "metadata": {},
   "outputs": [
    {
     "name": "stdout",
     "output_type": "stream",
     "text": [
      "1\n",
      "2 2\n",
      "3 3 3\n",
      "4 4 4 4\n",
      "5 5 5 5 5\n",
      "6 6 6 6 6 6\n"
     ]
    }
   ],
   "source": [
    "#28\n",
    "x=6\n",
    "while x:\n",
    "    print(\" \".join((7-x)*str((7-x))))\n",
    "    x-=1"
   ]
  },
  {
   "cell_type": "code",
   "execution_count": 76,
   "metadata": {},
   "outputs": [
    {
     "name": "stdout",
     "output_type": "stream",
     "text": [
      "A\n",
      "B B\n",
      "C C C\n",
      "D D D D\n",
      "E E E E E\n",
      "F F F F F F\n"
     ]
    }
   ],
   "source": [
    "#29\n",
    "x=6\n",
    "while x:\n",
    "    print(\" \".join((7-x)*chr(71-x)))\n",
    "    x-=1"
   ]
  },
  {
   "cell_type": "code",
   "execution_count": 77,
   "metadata": {},
   "outputs": [
    {
     "name": "stdout",
     "output_type": "stream",
     "text": [
      "         1          \n",
      "        1 2         \n",
      "       1 2 3        \n",
      "      1 2 3 4       \n",
      "     1 2 3 4 5      \n"
     ]
    }
   ],
   "source": [
    "#30\n",
    "x=5\n",
    "b=1\n",
    "a=0\n",
    "while x:\n",
    "    a=a*10+(b)\n",
    "    print(\" \".join(str(a)).center(20,\" \"))\n",
    "    x=x-1\n",
    "    b+=1"
   ]
  },
  {
   "cell_type": "code",
   "execution_count": 78,
   "metadata": {},
   "outputs": [
    {
     "name": "stdout",
     "output_type": "stream",
     "text": [
      "          5         \n",
      "         4 5        \n",
      "        3 4 5       \n",
      "       2 3 4 5      \n",
      "      1 2 3 4 5     \n"
     ]
    }
   ],
   "source": [
    "#31\n",
    "x=5\n",
    "a=\"\"\n",
    "while x:\n",
    "    a=\" \"+str(x)+a\n",
    "    print(a.center(20,\" \"))\n",
    "    x-=1"
   ]
  },
  {
   "cell_type": "code",
   "execution_count": 79,
   "metadata": {},
   "outputs": [
    {
     "name": "stdout",
     "output_type": "stream",
     "text": [
      "         A          \n",
      "        A B         \n",
      "       A B C        \n",
      "      A B C D       \n",
      "     A B C D E      \n"
     ]
    }
   ],
   "source": [
    "#32\n",
    "x=5\n",
    "a=\"\"\n",
    "while x:\n",
    "    a=a+chr(70-x)\n",
    "    print(\" \".join(a).center(20,\" \"))\n",
    "    x-=1"
   ]
  },
  {
   "cell_type": "code",
   "execution_count": 80,
   "metadata": {},
   "outputs": [
    {
     "name": "stdout",
     "output_type": "stream",
     "text": [
      "         E          \n",
      "        D E         \n",
      "       C D E        \n",
      "      B C D E       \n",
      "     A B C D E      \n"
     ]
    }
   ],
   "source": [
    "#33\n",
    "x=5\n",
    "a=\"\"\n",
    "while x:\n",
    "    a=chr(64+x)+a\n",
    "    print(\" \".join(a).center(20,\" \"))\n",
    "    x-=1"
   ]
  },
  {
   "cell_type": "code",
   "execution_count": 81,
   "metadata": {},
   "outputs": [
    {
     "name": "stdout",
     "output_type": "stream",
     "text": [
      "         1          \n",
      "        2 2         \n",
      "       3 3 3        \n",
      "      4 4 4 4       \n",
      "     5 5 5 5 5      \n"
     ]
    }
   ],
   "source": [
    "#34\n",
    "x=5\n",
    "while x:\n",
    "    print(\" \".join((6-x)*str((6-x))).center(20,\" \"))\n",
    "    x-=1"
   ]
  },
  {
   "cell_type": "code",
   "execution_count": 82,
   "metadata": {},
   "outputs": [
    {
     "name": "stdout",
     "output_type": "stream",
     "text": [
      "         A          \n",
      "        B B         \n",
      "       C C C        \n",
      "      D D D D       \n",
      "     E E E E E      \n"
     ]
    }
   ],
   "source": [
    "#35\n",
    "x=5\n",
    "while x:\n",
    "    print(\" \".join((6-x)*chr(70-x)).center(20,\" \"))\n",
    "    x-=1"
   ]
  },
  {
   "cell_type": "code",
   "execution_count": 83,
   "metadata": {},
   "outputs": [
    {
     "name": "stdout",
     "output_type": "stream",
     "text": [
      "1 2 3 4 5\n",
      "1 2 3 4\n",
      "1 2 3\n",
      "1 2\n",
      "1\n"
     ]
    }
   ],
   "source": [
    "#36\n",
    "x=5\n",
    "while x:\n",
    "    a=\"\"\n",
    "    b=x\n",
    "    while b:\n",
    "        a=a+str((x+1)-b)\n",
    "        \n",
    "        b-=1\n",
    "    print(\" \".join(a))\n",
    "    x-=1"
   ]
  },
  {
   "cell_type": "code",
   "execution_count": 84,
   "metadata": {},
   "outputs": [],
   "source": [
    "#37\n"
   ]
  },
  {
   "cell_type": "code",
   "execution_count": 85,
   "metadata": {},
   "outputs": [
    {
     "name": "stdout",
     "output_type": "stream",
     "text": [
      "5\n",
      "5 4\n",
      "5 4 3\n",
      "5 4 3 2\n",
      "5 4 3 2 1\n"
     ]
    }
   ],
   "source": [
    "#38\n",
    "x=5\n",
    "a=\"\"\n",
    "while x:\n",
    "    a=a+str(x)\n",
    "    print(\" \".join(a))\n",
    "    x-=1"
   ]
  },
  {
   "cell_type": "code",
   "execution_count": 86,
   "metadata": {},
   "outputs": [
    {
     "name": "stdout",
     "output_type": "stream",
     "text": [
      "5 4 3 2 1\n",
      "5 4 3 2\n",
      "5 4 3\n",
      "5 4\n",
      "5\n"
     ]
    }
   ],
   "source": [
    "#39\n",
    "x=5\n",
    "while x:\n",
    "    a=\"\"\n",
    "    b=x\n",
    "    while b:\n",
    "        a=a+str(6-(x-b)-1)\n",
    "        b-=1\n",
    "    print(\" \".join(a))\n",
    "    x-=1"
   ]
  },
  {
   "cell_type": "code",
   "execution_count": 87,
   "metadata": {},
   "outputs": [
    {
     "name": "stdout",
     "output_type": "stream",
     "text": [
      "1 \n",
      "2 3 \n",
      "4 5 6 \n",
      "7 8 9 10 \n",
      "11 12 13 14 15 \n"
     ]
    }
   ],
   "source": [
    "#40\n",
    "x=5\n",
    "num=0\n",
    "while x:\n",
    "    a=\"\"\n",
    "    b=(6-x)\n",
    "    while b:\n",
    "        num+=1\n",
    "        a=a+str(num)+\" \"\n",
    "        b-=1\n",
    "    print(a)\n",
    "    x-=1\n"
   ]
  },
  {
   "cell_type": "code",
   "execution_count": 88,
   "metadata": {},
   "outputs": [
    {
     "name": "stdout",
     "output_type": "stream",
     "text": [
      "A B C D E\n",
      "A B C D\n",
      "A B C\n",
      "A B\n",
      "A\n"
     ]
    }
   ],
   "source": [
    "#41\n",
    "x=5\n",
    "while x:\n",
    "    a=\"\"\n",
    "    b=x\n",
    "    while b:\n",
    "        a=a+chr(70-(6-(x-b)-1))\n",
    "        b-=1\n",
    "    print(\" \".join(a))\n",
    "    x-=1"
   ]
  }
 ],
 "metadata": {
  "kernelspec": {
   "display_name": "Python 3",
   "language": "python",
   "name": "python3"
  },
  "language_info": {
   "codemirror_mode": {
    "name": "ipython",
    "version": 3
   },
   "file_extension": ".py",
   "mimetype": "text/x-python",
   "name": "python",
   "nbconvert_exporter": "python",
   "pygments_lexer": "ipython3",
   "version": "3.11.1 (tags/v3.11.1:a7a450f, Dec  6 2022, 19:58:39) [MSC v.1934 64 bit (AMD64)]"
  },
  "orig_nbformat": 4,
  "vscode": {
   "interpreter": {
    "hash": "c261aea317cc0286b3b3261fbba9abdec21eaa57589985bb7a274bf54d6cc0a7"
   }
  }
 },
 "nbformat": 4,
 "nbformat_minor": 2
}
